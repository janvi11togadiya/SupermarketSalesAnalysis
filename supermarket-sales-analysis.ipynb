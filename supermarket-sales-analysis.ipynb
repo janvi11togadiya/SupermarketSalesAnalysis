{
 "cells": [
  {
   "cell_type": "markdown",
   "id": "08ab0833",
   "metadata": {
    "papermill": {
     "duration": 0.010785,
     "end_time": "2024-06-24T18:59:40.762365",
     "exception": false,
     "start_time": "2024-06-24T18:59:40.751580",
     "status": "completed"
    },
    "tags": []
   },
   "source": [
    "### 1. Import the necessary libraries\n"
   ]
  },
  {
   "cell_type": "code",
   "execution_count": 1,
   "id": "a6c966cc",
   "metadata": {
    "execution": {
     "iopub.execute_input": "2024-06-24T18:59:40.786760Z",
     "iopub.status.busy": "2024-06-24T18:59:40.786294Z",
     "iopub.status.idle": "2024-06-24T18:59:43.392275Z",
     "shell.execute_reply": "2024-06-24T18:59:43.390862Z"
    },
    "papermill": {
     "duration": 2.621719,
     "end_time": "2024-06-24T18:59:43.395351",
     "exception": false,
     "start_time": "2024-06-24T18:59:40.773632",
     "status": "completed"
    },
    "tags": []
   },
   "outputs": [],
   "source": [
    "import pandas as pd\n",
    "import seaborn as sns\n",
    "import matplotlib.pyplot as plt\n",
    "import numpy as np\n",
    "\n",
    "import warnings\n",
    "warnings.filterwarnings('ignore')"
   ]
  },
  {
   "cell_type": "markdown",
   "id": "739b565d",
   "metadata": {
    "papermill": {
     "duration": 0.011502,
     "end_time": "2024-06-24T18:59:43.418137",
     "exception": false,
     "start_time": "2024-06-24T18:59:43.406635",
     "status": "completed"
    },
    "tags": []
   },
   "source": [
    "### 2. Load data\n"
   ]
  },
  {
   "cell_type": "code",
   "execution_count": 2,
   "id": "b787f3fd",
   "metadata": {
    "execution": {
     "iopub.execute_input": "2024-06-24T18:59:43.447020Z",
     "iopub.status.busy": "2024-06-24T18:59:43.446296Z",
     "iopub.status.idle": "2024-06-24T18:59:43.501313Z",
     "shell.execute_reply": "2024-06-24T18:59:43.499858Z"
    },
    "papermill": {
     "duration": 0.073558,
     "end_time": "2024-06-24T18:59:43.504270",
     "exception": false,
     "start_time": "2024-06-24T18:59:43.430712",
     "status": "completed"
    },
    "tags": []
   },
   "outputs": [],
   "source": [
    "data = pd.read_csv('/kaggle/input/supermarket-sales/supermarket_sales - Sheet1.csv',parse_dates=['Date'])"
   ]
  },
  {
   "cell_type": "markdown",
   "id": "42b31ffc",
   "metadata": {
    "papermill": {
     "duration": 0.010447,
     "end_time": "2024-06-24T18:59:43.524815",
     "exception": false,
     "start_time": "2024-06-24T18:59:43.514368",
     "status": "completed"
    },
    "tags": []
   },
   "source": [
    "### 3. Data analysis and visualization\n"
   ]
  },
  {
   "cell_type": "markdown",
   "id": "95842c60",
   "metadata": {
    "papermill": {
     "duration": 0.012033,
     "end_time": "2024-06-24T18:59:43.547088",
     "exception": false,
     "start_time": "2024-06-24T18:59:43.535055",
     "status": "completed"
    },
    "tags": []
   },
   "source": [
    "#### 3.1 Knowing about data\n"
   ]
  },
  {
   "cell_type": "code",
   "execution_count": 3,
   "id": "34c98d60",
   "metadata": {
    "execution": {
     "iopub.execute_input": "2024-06-24T18:59:43.576962Z",
     "iopub.status.busy": "2024-06-24T18:59:43.576414Z",
     "iopub.status.idle": "2024-06-24T18:59:43.616775Z",
     "shell.execute_reply": "2024-06-24T18:59:43.615332Z"
    },
    "papermill": {
     "duration": 0.059002,
     "end_time": "2024-06-24T18:59:43.620565",
     "exception": false,
     "start_time": "2024-06-24T18:59:43.561563",
     "status": "completed"
    },
    "tags": []
   },
   "outputs": [
    {
     "data": {
      "text/html": [
       "<div>\n",
       "<style scoped>\n",
       "    .dataframe tbody tr th:only-of-type {\n",
       "        vertical-align: middle;\n",
       "    }\n",
       "\n",
       "    .dataframe tbody tr th {\n",
       "        vertical-align: top;\n",
       "    }\n",
       "\n",
       "    .dataframe thead th {\n",
       "        text-align: right;\n",
       "    }\n",
       "</style>\n",
       "<table border=\"1\" class=\"dataframe\">\n",
       "  <thead>\n",
       "    <tr style=\"text-align: right;\">\n",
       "      <th></th>\n",
       "      <th>Invoice ID</th>\n",
       "      <th>Branch</th>\n",
       "      <th>City</th>\n",
       "      <th>Customer type</th>\n",
       "      <th>Gender</th>\n",
       "      <th>Product line</th>\n",
       "      <th>Unit price</th>\n",
       "      <th>Quantity</th>\n",
       "      <th>Tax 5%</th>\n",
       "      <th>Total</th>\n",
       "      <th>Date</th>\n",
       "      <th>Time</th>\n",
       "      <th>Payment</th>\n",
       "      <th>cogs</th>\n",
       "      <th>gross margin percentage</th>\n",
       "      <th>gross income</th>\n",
       "      <th>Rating</th>\n",
       "    </tr>\n",
       "  </thead>\n",
       "  <tbody>\n",
       "    <tr>\n",
       "      <th>0</th>\n",
       "      <td>750-67-8428</td>\n",
       "      <td>A</td>\n",
       "      <td>Yangon</td>\n",
       "      <td>Member</td>\n",
       "      <td>Female</td>\n",
       "      <td>Health and beauty</td>\n",
       "      <td>74.69</td>\n",
       "      <td>7</td>\n",
       "      <td>26.1415</td>\n",
       "      <td>548.9715</td>\n",
       "      <td>2019-01-05</td>\n",
       "      <td>13:08</td>\n",
       "      <td>Ewallet</td>\n",
       "      <td>522.83</td>\n",
       "      <td>4.761905</td>\n",
       "      <td>26.1415</td>\n",
       "      <td>9.1</td>\n",
       "    </tr>\n",
       "    <tr>\n",
       "      <th>1</th>\n",
       "      <td>226-31-3081</td>\n",
       "      <td>C</td>\n",
       "      <td>Naypyitaw</td>\n",
       "      <td>Normal</td>\n",
       "      <td>Female</td>\n",
       "      <td>Electronic accessories</td>\n",
       "      <td>15.28</td>\n",
       "      <td>5</td>\n",
       "      <td>3.8200</td>\n",
       "      <td>80.2200</td>\n",
       "      <td>2019-03-08</td>\n",
       "      <td>10:29</td>\n",
       "      <td>Cash</td>\n",
       "      <td>76.40</td>\n",
       "      <td>4.761905</td>\n",
       "      <td>3.8200</td>\n",
       "      <td>9.6</td>\n",
       "    </tr>\n",
       "    <tr>\n",
       "      <th>2</th>\n",
       "      <td>631-41-3108</td>\n",
       "      <td>A</td>\n",
       "      <td>Yangon</td>\n",
       "      <td>Normal</td>\n",
       "      <td>Male</td>\n",
       "      <td>Home and lifestyle</td>\n",
       "      <td>46.33</td>\n",
       "      <td>7</td>\n",
       "      <td>16.2155</td>\n",
       "      <td>340.5255</td>\n",
       "      <td>2019-03-03</td>\n",
       "      <td>13:23</td>\n",
       "      <td>Credit card</td>\n",
       "      <td>324.31</td>\n",
       "      <td>4.761905</td>\n",
       "      <td>16.2155</td>\n",
       "      <td>7.4</td>\n",
       "    </tr>\n",
       "    <tr>\n",
       "      <th>3</th>\n",
       "      <td>123-19-1176</td>\n",
       "      <td>A</td>\n",
       "      <td>Yangon</td>\n",
       "      <td>Member</td>\n",
       "      <td>Male</td>\n",
       "      <td>Health and beauty</td>\n",
       "      <td>58.22</td>\n",
       "      <td>8</td>\n",
       "      <td>23.2880</td>\n",
       "      <td>489.0480</td>\n",
       "      <td>2019-01-27</td>\n",
       "      <td>20:33</td>\n",
       "      <td>Ewallet</td>\n",
       "      <td>465.76</td>\n",
       "      <td>4.761905</td>\n",
       "      <td>23.2880</td>\n",
       "      <td>8.4</td>\n",
       "    </tr>\n",
       "    <tr>\n",
       "      <th>4</th>\n",
       "      <td>373-73-7910</td>\n",
       "      <td>A</td>\n",
       "      <td>Yangon</td>\n",
       "      <td>Normal</td>\n",
       "      <td>Male</td>\n",
       "      <td>Sports and travel</td>\n",
       "      <td>86.31</td>\n",
       "      <td>7</td>\n",
       "      <td>30.2085</td>\n",
       "      <td>634.3785</td>\n",
       "      <td>2019-02-08</td>\n",
       "      <td>10:37</td>\n",
       "      <td>Ewallet</td>\n",
       "      <td>604.17</td>\n",
       "      <td>4.761905</td>\n",
       "      <td>30.2085</td>\n",
       "      <td>5.3</td>\n",
       "    </tr>\n",
       "  </tbody>\n",
       "</table>\n",
       "</div>"
      ],
      "text/plain": [
       "    Invoice ID Branch       City Customer type  Gender  \\\n",
       "0  750-67-8428      A     Yangon        Member  Female   \n",
       "1  226-31-3081      C  Naypyitaw        Normal  Female   \n",
       "2  631-41-3108      A     Yangon        Normal    Male   \n",
       "3  123-19-1176      A     Yangon        Member    Male   \n",
       "4  373-73-7910      A     Yangon        Normal    Male   \n",
       "\n",
       "             Product line  Unit price  Quantity   Tax 5%     Total       Date  \\\n",
       "0       Health and beauty       74.69         7  26.1415  548.9715 2019-01-05   \n",
       "1  Electronic accessories       15.28         5   3.8200   80.2200 2019-03-08   \n",
       "2      Home and lifestyle       46.33         7  16.2155  340.5255 2019-03-03   \n",
       "3       Health and beauty       58.22         8  23.2880  489.0480 2019-01-27   \n",
       "4       Sports and travel       86.31         7  30.2085  634.3785 2019-02-08   \n",
       "\n",
       "    Time      Payment    cogs  gross margin percentage  gross income  Rating  \n",
       "0  13:08      Ewallet  522.83                 4.761905       26.1415     9.1  \n",
       "1  10:29         Cash   76.40                 4.761905        3.8200     9.6  \n",
       "2  13:23  Credit card  324.31                 4.761905       16.2155     7.4  \n",
       "3  20:33      Ewallet  465.76                 4.761905       23.2880     8.4  \n",
       "4  10:37      Ewallet  604.17                 4.761905       30.2085     5.3  "
      ]
     },
     "execution_count": 3,
     "metadata": {},
     "output_type": "execute_result"
    }
   ],
   "source": [
    "data.head()"
   ]
  },
  {
   "cell_type": "code",
   "execution_count": 4,
   "id": "20bee005",
   "metadata": {
    "execution": {
     "iopub.execute_input": "2024-06-24T18:59:43.657667Z",
     "iopub.status.busy": "2024-06-24T18:59:43.656633Z",
     "iopub.status.idle": "2024-06-24T18:59:43.667424Z",
     "shell.execute_reply": "2024-06-24T18:59:43.665324Z"
    },
    "papermill": {
     "duration": 0.035267,
     "end_time": "2024-06-24T18:59:43.670737",
     "exception": false,
     "start_time": "2024-06-24T18:59:43.635470",
     "status": "completed"
    },
    "tags": []
   },
   "outputs": [
    {
     "data": {
      "text/plain": [
       "(1000, 17)"
      ]
     },
     "execution_count": 4,
     "metadata": {},
     "output_type": "execute_result"
    }
   ],
   "source": [
    "data.shape"
   ]
  },
  {
   "cell_type": "code",
   "execution_count": 5,
   "id": "09196c6d",
   "metadata": {
    "execution": {
     "iopub.execute_input": "2024-06-24T18:59:43.701822Z",
     "iopub.status.busy": "2024-06-24T18:59:43.701367Z",
     "iopub.status.idle": "2024-06-24T18:59:43.749734Z",
     "shell.execute_reply": "2024-06-24T18:59:43.748581Z"
    },
    "papermill": {
     "duration": 0.066099,
     "end_time": "2024-06-24T18:59:43.752437",
     "exception": false,
     "start_time": "2024-06-24T18:59:43.686338",
     "status": "completed"
    },
    "tags": []
   },
   "outputs": [
    {
     "data": {
      "text/html": [
       "<div>\n",
       "<style scoped>\n",
       "    .dataframe tbody tr th:only-of-type {\n",
       "        vertical-align: middle;\n",
       "    }\n",
       "\n",
       "    .dataframe tbody tr th {\n",
       "        vertical-align: top;\n",
       "    }\n",
       "\n",
       "    .dataframe thead th {\n",
       "        text-align: right;\n",
       "    }\n",
       "</style>\n",
       "<table border=\"1\" class=\"dataframe\">\n",
       "  <thead>\n",
       "    <tr style=\"text-align: right;\">\n",
       "      <th></th>\n",
       "      <th>Unit price</th>\n",
       "      <th>Quantity</th>\n",
       "      <th>Tax 5%</th>\n",
       "      <th>Total</th>\n",
       "      <th>Date</th>\n",
       "      <th>cogs</th>\n",
       "      <th>gross margin percentage</th>\n",
       "      <th>gross income</th>\n",
       "      <th>Rating</th>\n",
       "    </tr>\n",
       "  </thead>\n",
       "  <tbody>\n",
       "    <tr>\n",
       "      <th>count</th>\n",
       "      <td>1000.000000</td>\n",
       "      <td>1000.000000</td>\n",
       "      <td>1000.000000</td>\n",
       "      <td>1000.000000</td>\n",
       "      <td>1000</td>\n",
       "      <td>1000.00000</td>\n",
       "      <td>1000.000000</td>\n",
       "      <td>1000.000000</td>\n",
       "      <td>1000.00000</td>\n",
       "    </tr>\n",
       "    <tr>\n",
       "      <th>mean</th>\n",
       "      <td>55.672130</td>\n",
       "      <td>5.510000</td>\n",
       "      <td>15.379369</td>\n",
       "      <td>322.966749</td>\n",
       "      <td>2019-02-14 00:05:45.600000</td>\n",
       "      <td>307.58738</td>\n",
       "      <td>4.761905</td>\n",
       "      <td>15.379369</td>\n",
       "      <td>6.97270</td>\n",
       "    </tr>\n",
       "    <tr>\n",
       "      <th>min</th>\n",
       "      <td>10.080000</td>\n",
       "      <td>1.000000</td>\n",
       "      <td>0.508500</td>\n",
       "      <td>10.678500</td>\n",
       "      <td>2019-01-01 00:00:00</td>\n",
       "      <td>10.17000</td>\n",
       "      <td>4.761905</td>\n",
       "      <td>0.508500</td>\n",
       "      <td>4.00000</td>\n",
       "    </tr>\n",
       "    <tr>\n",
       "      <th>25%</th>\n",
       "      <td>32.875000</td>\n",
       "      <td>3.000000</td>\n",
       "      <td>5.924875</td>\n",
       "      <td>124.422375</td>\n",
       "      <td>2019-01-24 00:00:00</td>\n",
       "      <td>118.49750</td>\n",
       "      <td>4.761905</td>\n",
       "      <td>5.924875</td>\n",
       "      <td>5.50000</td>\n",
       "    </tr>\n",
       "    <tr>\n",
       "      <th>50%</th>\n",
       "      <td>55.230000</td>\n",
       "      <td>5.000000</td>\n",
       "      <td>12.088000</td>\n",
       "      <td>253.848000</td>\n",
       "      <td>2019-02-13 00:00:00</td>\n",
       "      <td>241.76000</td>\n",
       "      <td>4.761905</td>\n",
       "      <td>12.088000</td>\n",
       "      <td>7.00000</td>\n",
       "    </tr>\n",
       "    <tr>\n",
       "      <th>75%</th>\n",
       "      <td>77.935000</td>\n",
       "      <td>8.000000</td>\n",
       "      <td>22.445250</td>\n",
       "      <td>471.350250</td>\n",
       "      <td>2019-03-08 00:00:00</td>\n",
       "      <td>448.90500</td>\n",
       "      <td>4.761905</td>\n",
       "      <td>22.445250</td>\n",
       "      <td>8.50000</td>\n",
       "    </tr>\n",
       "    <tr>\n",
       "      <th>max</th>\n",
       "      <td>99.960000</td>\n",
       "      <td>10.000000</td>\n",
       "      <td>49.650000</td>\n",
       "      <td>1042.650000</td>\n",
       "      <td>2019-03-30 00:00:00</td>\n",
       "      <td>993.00000</td>\n",
       "      <td>4.761905</td>\n",
       "      <td>49.650000</td>\n",
       "      <td>10.00000</td>\n",
       "    </tr>\n",
       "    <tr>\n",
       "      <th>std</th>\n",
       "      <td>26.494628</td>\n",
       "      <td>2.923431</td>\n",
       "      <td>11.708825</td>\n",
       "      <td>245.885335</td>\n",
       "      <td>NaN</td>\n",
       "      <td>234.17651</td>\n",
       "      <td>0.000000</td>\n",
       "      <td>11.708825</td>\n",
       "      <td>1.71858</td>\n",
       "    </tr>\n",
       "  </tbody>\n",
       "</table>\n",
       "</div>"
      ],
      "text/plain": [
       "        Unit price     Quantity       Tax 5%        Total  \\\n",
       "count  1000.000000  1000.000000  1000.000000  1000.000000   \n",
       "mean     55.672130     5.510000    15.379369   322.966749   \n",
       "min      10.080000     1.000000     0.508500    10.678500   \n",
       "25%      32.875000     3.000000     5.924875   124.422375   \n",
       "50%      55.230000     5.000000    12.088000   253.848000   \n",
       "75%      77.935000     8.000000    22.445250   471.350250   \n",
       "max      99.960000    10.000000    49.650000  1042.650000   \n",
       "std      26.494628     2.923431    11.708825   245.885335   \n",
       "\n",
       "                             Date        cogs  gross margin percentage  \\\n",
       "count                        1000  1000.00000              1000.000000   \n",
       "mean   2019-02-14 00:05:45.600000   307.58738                 4.761905   \n",
       "min           2019-01-01 00:00:00    10.17000                 4.761905   \n",
       "25%           2019-01-24 00:00:00   118.49750                 4.761905   \n",
       "50%           2019-02-13 00:00:00   241.76000                 4.761905   \n",
       "75%           2019-03-08 00:00:00   448.90500                 4.761905   \n",
       "max           2019-03-30 00:00:00   993.00000                 4.761905   \n",
       "std                           NaN   234.17651                 0.000000   \n",
       "\n",
       "       gross income      Rating  \n",
       "count   1000.000000  1000.00000  \n",
       "mean      15.379369     6.97270  \n",
       "min        0.508500     4.00000  \n",
       "25%        5.924875     5.50000  \n",
       "50%       12.088000     7.00000  \n",
       "75%       22.445250     8.50000  \n",
       "max       49.650000    10.00000  \n",
       "std       11.708825     1.71858  "
      ]
     },
     "execution_count": 5,
     "metadata": {},
     "output_type": "execute_result"
    }
   ],
   "source": [
    "data.describe()"
   ]
  },
  {
   "cell_type": "markdown",
   "id": "18306964",
   "metadata": {
    "papermill": {
     "duration": 0.011875,
     "end_time": "2024-06-24T18:59:43.775464",
     "exception": false,
     "start_time": "2024-06-24T18:59:43.763589",
     "status": "completed"
    },
    "tags": []
   },
   "source": [
    "#### 3.2 Cleaning data\n"
   ]
  },
  {
   "cell_type": "code",
   "execution_count": 6,
   "id": "d9a65810",
   "metadata": {
    "execution": {
     "iopub.execute_input": "2024-06-24T18:59:43.808887Z",
     "iopub.status.busy": "2024-06-24T18:59:43.808289Z",
     "iopub.status.idle": "2024-06-24T18:59:43.835079Z",
     "shell.execute_reply": "2024-06-24T18:59:43.832995Z"
    },
    "papermill": {
     "duration": 0.047544,
     "end_time": "2024-06-24T18:59:43.838669",
     "exception": false,
     "start_time": "2024-06-24T18:59:43.791125",
     "status": "completed"
    },
    "tags": []
   },
   "outputs": [
    {
     "name": "stdout",
     "output_type": "stream",
     "text": [
      "<class 'pandas.core.frame.DataFrame'>\n",
      "RangeIndex: 1000 entries, 0 to 999\n",
      "Data columns (total 17 columns):\n",
      " #   Column                   Non-Null Count  Dtype         \n",
      "---  ------                   --------------  -----         \n",
      " 0   Invoice ID               1000 non-null   object        \n",
      " 1   Branch                   1000 non-null   object        \n",
      " 2   City                     1000 non-null   object        \n",
      " 3   Customer type            1000 non-null   object        \n",
      " 4   Gender                   1000 non-null   object        \n",
      " 5   Product line             1000 non-null   object        \n",
      " 6   Unit price               1000 non-null   float64       \n",
      " 7   Quantity                 1000 non-null   int64         \n",
      " 8   Tax 5%                   1000 non-null   float64       \n",
      " 9   Total                    1000 non-null   float64       \n",
      " 10  Date                     1000 non-null   datetime64[ns]\n",
      " 11  Time                     1000 non-null   object        \n",
      " 12  Payment                  1000 non-null   object        \n",
      " 13  cogs                     1000 non-null   float64       \n",
      " 14  gross margin percentage  1000 non-null   float64       \n",
      " 15  gross income             1000 non-null   float64       \n",
      " 16  Rating                   1000 non-null   float64       \n",
      "dtypes: datetime64[ns](1), float64(7), int64(1), object(8)\n",
      "memory usage: 132.9+ KB\n"
     ]
    }
   ],
   "source": [
    "data.info()"
   ]
  },
  {
   "cell_type": "code",
   "execution_count": 7,
   "id": "67c3a14a",
   "metadata": {
    "execution": {
     "iopub.execute_input": "2024-06-24T18:59:43.868367Z",
     "iopub.status.busy": "2024-06-24T18:59:43.867921Z",
     "iopub.status.idle": "2024-06-24T18:59:43.880399Z",
     "shell.execute_reply": "2024-06-24T18:59:43.878850Z"
    },
    "papermill": {
     "duration": 0.030672,
     "end_time": "2024-06-24T18:59:43.883301",
     "exception": false,
     "start_time": "2024-06-24T18:59:43.852629",
     "status": "completed"
    },
    "tags": []
   },
   "outputs": [
    {
     "data": {
      "text/plain": [
       "Invoice ID                 0\n",
       "Branch                     0\n",
       "City                       0\n",
       "Customer type              0\n",
       "Gender                     0\n",
       "Product line               0\n",
       "Unit price                 0\n",
       "Quantity                   0\n",
       "Tax 5%                     0\n",
       "Total                      0\n",
       "Date                       0\n",
       "Time                       0\n",
       "Payment                    0\n",
       "cogs                       0\n",
       "gross margin percentage    0\n",
       "gross income               0\n",
       "Rating                     0\n",
       "dtype: int64"
      ]
     },
     "execution_count": 7,
     "metadata": {},
     "output_type": "execute_result"
    }
   ],
   "source": [
    "data.isna().sum()"
   ]
  },
  {
   "cell_type": "code",
   "execution_count": 8,
   "id": "15741ea5",
   "metadata": {
    "execution": {
     "iopub.execute_input": "2024-06-24T18:59:43.910115Z",
     "iopub.status.busy": "2024-06-24T18:59:43.909663Z",
     "iopub.status.idle": "2024-06-24T18:59:43.922442Z",
     "shell.execute_reply": "2024-06-24T18:59:43.921242Z"
    },
    "papermill": {
     "duration": 0.029188,
     "end_time": "2024-06-24T18:59:43.925216",
     "exception": false,
     "start_time": "2024-06-24T18:59:43.896028",
     "status": "completed"
    },
    "tags": []
   },
   "outputs": [
    {
     "data": {
      "text/plain": [
       "0"
      ]
     },
     "execution_count": 8,
     "metadata": {},
     "output_type": "execute_result"
    }
   ],
   "source": [
    "data.duplicated().sum()"
   ]
  },
  {
   "cell_type": "markdown",
   "id": "89cd8437",
   "metadata": {
    "papermill": {
     "duration": 0.011302,
     "end_time": "2024-06-24T18:59:43.949725",
     "exception": false,
     "start_time": "2024-06-24T18:59:43.938423",
     "status": "completed"
    },
    "tags": []
   },
   "source": [
    "#### 3.3 Data analysis\n"
   ]
  },
  {
   "cell_type": "code",
   "execution_count": 9,
   "id": "a1157d3b",
   "metadata": {
    "execution": {
     "iopub.execute_input": "2024-06-24T18:59:43.975929Z",
     "iopub.status.busy": "2024-06-24T18:59:43.974833Z",
     "iopub.status.idle": "2024-06-24T18:59:44.000035Z",
     "shell.execute_reply": "2024-06-24T18:59:43.998827Z"
    },
    "papermill": {
     "duration": 0.041562,
     "end_time": "2024-06-24T18:59:44.002836",
     "exception": false,
     "start_time": "2024-06-24T18:59:43.961274",
     "status": "completed"
    },
    "tags": []
   },
   "outputs": [
    {
     "data": {
      "text/html": [
       "<div>\n",
       "<style scoped>\n",
       "    .dataframe tbody tr th:only-of-type {\n",
       "        vertical-align: middle;\n",
       "    }\n",
       "\n",
       "    .dataframe tbody tr th {\n",
       "        vertical-align: top;\n",
       "    }\n",
       "\n",
       "    .dataframe thead th {\n",
       "        text-align: right;\n",
       "    }\n",
       "</style>\n",
       "<table border=\"1\" class=\"dataframe\">\n",
       "  <thead>\n",
       "    <tr style=\"text-align: right;\">\n",
       "      <th></th>\n",
       "      <th>Invoice ID</th>\n",
       "      <th>Branch</th>\n",
       "      <th>City</th>\n",
       "      <th>Customer type</th>\n",
       "      <th>Gender</th>\n",
       "      <th>Product line</th>\n",
       "      <th>Unit price</th>\n",
       "      <th>Quantity</th>\n",
       "      <th>Tax 5%</th>\n",
       "      <th>Total</th>\n",
       "      <th>Date</th>\n",
       "      <th>Time</th>\n",
       "      <th>Payment</th>\n",
       "      <th>cogs</th>\n",
       "      <th>gross margin percentage</th>\n",
       "      <th>gross income</th>\n",
       "      <th>Rating</th>\n",
       "    </tr>\n",
       "  </thead>\n",
       "  <tbody>\n",
       "    <tr>\n",
       "      <th>0</th>\n",
       "      <td>750-67-8428</td>\n",
       "      <td>A</td>\n",
       "      <td>Yangon</td>\n",
       "      <td>Member</td>\n",
       "      <td>Female</td>\n",
       "      <td>Health and beauty</td>\n",
       "      <td>74.69</td>\n",
       "      <td>7</td>\n",
       "      <td>26.1415</td>\n",
       "      <td>548.9715</td>\n",
       "      <td>2019-01-05</td>\n",
       "      <td>13:08</td>\n",
       "      <td>Ewallet</td>\n",
       "      <td>522.83</td>\n",
       "      <td>4.761905</td>\n",
       "      <td>26.1415</td>\n",
       "      <td>9.1</td>\n",
       "    </tr>\n",
       "    <tr>\n",
       "      <th>1</th>\n",
       "      <td>226-31-3081</td>\n",
       "      <td>C</td>\n",
       "      <td>Naypyitaw</td>\n",
       "      <td>Normal</td>\n",
       "      <td>Female</td>\n",
       "      <td>Electronic accessories</td>\n",
       "      <td>15.28</td>\n",
       "      <td>5</td>\n",
       "      <td>3.8200</td>\n",
       "      <td>80.2200</td>\n",
       "      <td>2019-03-08</td>\n",
       "      <td>10:29</td>\n",
       "      <td>Cash</td>\n",
       "      <td>76.40</td>\n",
       "      <td>4.761905</td>\n",
       "      <td>3.8200</td>\n",
       "      <td>9.6</td>\n",
       "    </tr>\n",
       "    <tr>\n",
       "      <th>2</th>\n",
       "      <td>631-41-3108</td>\n",
       "      <td>A</td>\n",
       "      <td>Yangon</td>\n",
       "      <td>Normal</td>\n",
       "      <td>Male</td>\n",
       "      <td>Home and lifestyle</td>\n",
       "      <td>46.33</td>\n",
       "      <td>7</td>\n",
       "      <td>16.2155</td>\n",
       "      <td>340.5255</td>\n",
       "      <td>2019-03-03</td>\n",
       "      <td>13:23</td>\n",
       "      <td>Credit card</td>\n",
       "      <td>324.31</td>\n",
       "      <td>4.761905</td>\n",
       "      <td>16.2155</td>\n",
       "      <td>7.4</td>\n",
       "    </tr>\n",
       "    <tr>\n",
       "      <th>3</th>\n",
       "      <td>123-19-1176</td>\n",
       "      <td>A</td>\n",
       "      <td>Yangon</td>\n",
       "      <td>Member</td>\n",
       "      <td>Male</td>\n",
       "      <td>Health and beauty</td>\n",
       "      <td>58.22</td>\n",
       "      <td>8</td>\n",
       "      <td>23.2880</td>\n",
       "      <td>489.0480</td>\n",
       "      <td>2019-01-27</td>\n",
       "      <td>20:33</td>\n",
       "      <td>Ewallet</td>\n",
       "      <td>465.76</td>\n",
       "      <td>4.761905</td>\n",
       "      <td>23.2880</td>\n",
       "      <td>8.4</td>\n",
       "    </tr>\n",
       "    <tr>\n",
       "      <th>4</th>\n",
       "      <td>373-73-7910</td>\n",
       "      <td>A</td>\n",
       "      <td>Yangon</td>\n",
       "      <td>Normal</td>\n",
       "      <td>Male</td>\n",
       "      <td>Sports and travel</td>\n",
       "      <td>86.31</td>\n",
       "      <td>7</td>\n",
       "      <td>30.2085</td>\n",
       "      <td>634.3785</td>\n",
       "      <td>2019-02-08</td>\n",
       "      <td>10:37</td>\n",
       "      <td>Ewallet</td>\n",
       "      <td>604.17</td>\n",
       "      <td>4.761905</td>\n",
       "      <td>30.2085</td>\n",
       "      <td>5.3</td>\n",
       "    </tr>\n",
       "  </tbody>\n",
       "</table>\n",
       "</div>"
      ],
      "text/plain": [
       "    Invoice ID Branch       City Customer type  Gender  \\\n",
       "0  750-67-8428      A     Yangon        Member  Female   \n",
       "1  226-31-3081      C  Naypyitaw        Normal  Female   \n",
       "2  631-41-3108      A     Yangon        Normal    Male   \n",
       "3  123-19-1176      A     Yangon        Member    Male   \n",
       "4  373-73-7910      A     Yangon        Normal    Male   \n",
       "\n",
       "             Product line  Unit price  Quantity   Tax 5%     Total       Date  \\\n",
       "0       Health and beauty       74.69         7  26.1415  548.9715 2019-01-05   \n",
       "1  Electronic accessories       15.28         5   3.8200   80.2200 2019-03-08   \n",
       "2      Home and lifestyle       46.33         7  16.2155  340.5255 2019-03-03   \n",
       "3       Health and beauty       58.22         8  23.2880  489.0480 2019-01-27   \n",
       "4       Sports and travel       86.31         7  30.2085  634.3785 2019-02-08   \n",
       "\n",
       "    Time      Payment    cogs  gross margin percentage  gross income  Rating  \n",
       "0  13:08      Ewallet  522.83                 4.761905       26.1415     9.1  \n",
       "1  10:29         Cash   76.40                 4.761905        3.8200     9.6  \n",
       "2  13:23  Credit card  324.31                 4.761905       16.2155     7.4  \n",
       "3  20:33      Ewallet  465.76                 4.761905       23.2880     8.4  \n",
       "4  10:37      Ewallet  604.17                 4.761905       30.2085     5.3  "
      ]
     },
     "execution_count": 9,
     "metadata": {},
     "output_type": "execute_result"
    }
   ],
   "source": [
    "data.head()"
   ]
  },
  {
   "cell_type": "code",
   "execution_count": 10,
   "id": "38a35b9c",
   "metadata": {
    "execution": {
     "iopub.execute_input": "2024-06-24T18:59:44.030386Z",
     "iopub.status.busy": "2024-06-24T18:59:44.029922Z",
     "iopub.status.idle": "2024-06-24T18:59:44.040129Z",
     "shell.execute_reply": "2024-06-24T18:59:44.038687Z"
    },
    "papermill": {
     "duration": 0.026933,
     "end_time": "2024-06-24T18:59:44.043109",
     "exception": false,
     "start_time": "2024-06-24T18:59:44.016176",
     "status": "completed"
    },
    "tags": []
   },
   "outputs": [
    {
     "data": {
      "text/plain": [
       "Gender\n",
       "Female    501\n",
       "Male      499\n",
       "Name: count, dtype: int64"
      ]
     },
     "execution_count": 10,
     "metadata": {},
     "output_type": "execute_result"
    }
   ],
   "source": [
    "gender = data.Gender.value_counts()\n",
    "gender"
   ]
  },
  {
   "cell_type": "code",
   "execution_count": 11,
   "id": "d39e67e4",
   "metadata": {
    "execution": {
     "iopub.execute_input": "2024-06-24T18:59:44.072048Z",
     "iopub.status.busy": "2024-06-24T18:59:44.071331Z",
     "iopub.status.idle": "2024-06-24T18:59:44.083108Z",
     "shell.execute_reply": "2024-06-24T18:59:44.081841Z"
    },
    "papermill": {
     "duration": 0.029888,
     "end_time": "2024-06-24T18:59:44.086104",
     "exception": false,
     "start_time": "2024-06-24T18:59:44.056216",
     "status": "completed"
    },
    "tags": []
   },
   "outputs": [
    {
     "data": {
      "text/plain": [
       "Customer type\n",
       "Member    501\n",
       "Normal    499\n",
       "Name: count, dtype: int64"
      ]
     },
     "execution_count": 11,
     "metadata": {},
     "output_type": "execute_result"
    }
   ],
   "source": [
    "type = data['Customer type'].value_counts()\n",
    "type"
   ]
  },
  {
   "cell_type": "code",
   "execution_count": 12,
   "id": "dbb64a16",
   "metadata": {
    "execution": {
     "iopub.execute_input": "2024-06-24T18:59:44.113432Z",
     "iopub.status.busy": "2024-06-24T18:59:44.113002Z",
     "iopub.status.idle": "2024-06-24T18:59:44.123228Z",
     "shell.execute_reply": "2024-06-24T18:59:44.121967Z"
    },
    "papermill": {
     "duration": 0.027649,
     "end_time": "2024-06-24T18:59:44.125993",
     "exception": false,
     "start_time": "2024-06-24T18:59:44.098344",
     "status": "completed"
    },
    "tags": []
   },
   "outputs": [
    {
     "data": {
      "text/plain": [
       "Branch\n",
       "A    340\n",
       "B    332\n",
       "C    328\n",
       "Name: count, dtype: int64"
      ]
     },
     "execution_count": 12,
     "metadata": {},
     "output_type": "execute_result"
    }
   ],
   "source": [
    "branch = data.Branch.value_counts()\n",
    "branch"
   ]
  },
  {
   "cell_type": "code",
   "execution_count": 13,
   "id": "85920fc2",
   "metadata": {
    "execution": {
     "iopub.execute_input": "2024-06-24T18:59:44.153150Z",
     "iopub.status.busy": "2024-06-24T18:59:44.152662Z",
     "iopub.status.idle": "2024-06-24T18:59:44.162619Z",
     "shell.execute_reply": "2024-06-24T18:59:44.161437Z"
    },
    "papermill": {
     "duration": 0.027074,
     "end_time": "2024-06-24T18:59:44.165403",
     "exception": false,
     "start_time": "2024-06-24T18:59:44.138329",
     "status": "completed"
    },
    "tags": []
   },
   "outputs": [
    {
     "data": {
      "text/plain": [
       "Payment\n",
       "Ewallet        345\n",
       "Cash           344\n",
       "Credit card    311\n",
       "Name: count, dtype: int64"
      ]
     },
     "execution_count": 13,
     "metadata": {},
     "output_type": "execute_result"
    }
   ],
   "source": [
    "pay = data.Payment.value_counts()\n",
    "pay"
   ]
  },
  {
   "cell_type": "code",
   "execution_count": 14,
   "id": "00baed6f",
   "metadata": {
    "execution": {
     "iopub.execute_input": "2024-06-24T18:59:44.192694Z",
     "iopub.status.busy": "2024-06-24T18:59:44.192296Z",
     "iopub.status.idle": "2024-06-24T18:59:44.966695Z",
     "shell.execute_reply": "2024-06-24T18:59:44.964586Z"
    },
    "papermill": {
     "duration": 0.792453,
     "end_time": "2024-06-24T18:59:44.970451",
     "exception": false,
     "start_time": "2024-06-24T18:59:44.177998",
     "status": "completed"
    },
    "tags": []
   },
   "outputs": [
    {
     "data": {
      "image/png": "[encoded data removed]",
      "text/plain": [
       "<Figure size 1200x600 with 4 Axes>"
      ]
     },
     "metadata": {},
     "output_type": "display_data"
    }
   ],
   "source": [
    "fig, (ax1, ax2, ax3, ax4) = plt.subplots(1, 4, figsize=(12, 6))\n",
    "\n",
    "ax1.pie(gender, labels=gender.index, colors=['#2a77db','#e01bbf'], autopct='%1.1f%%')\n",
    "ax1.set_title('Gender')\n",
    "\n",
    "ax2.pie(type, labels=type.index, autopct='%1.1f%%')\n",
    "ax2.set_title('Customer Type')\n",
    "\n",
    "ax3.pie(branch, labels=branch.index, colors=['#3498DB', '#E74C3C', '#F1C40F'], autopct='%1.1f%%')\n",
    "ax3.set_title('Branch')\n",
    "\n",
    "ax4.pie(pay, labels=pay.index, autopct='%1.1f%%')\n",
    "ax4.set_title('Payment method')\n",
    "\n",
    "plt.tight_layout()\n",
    "plt.show()"
   ]
  },
  {
   "cell_type": "code",
   "execution_count": 15,
   "id": "4ee8b937",
   "metadata": {
    "execution": {
     "iopub.execute_input": "2024-06-24T18:59:45.005953Z",
     "iopub.status.busy": "2024-06-24T18:59:45.005500Z",
     "iopub.status.idle": "2024-06-24T18:59:45.039798Z",
     "shell.execute_reply": "2024-06-24T18:59:45.038480Z"
    },
    "papermill": {
     "duration": 0.055611,
     "end_time": "2024-06-24T18:59:45.043206",
     "exception": false,
     "start_time": "2024-06-24T18:59:44.987595",
     "status": "completed"
    },
    "tags": []
   },
   "outputs": [
    {
     "data": {
      "text/html": [
       "<div>\n",
       "<style scoped>\n",
       "    .dataframe tbody tr th:only-of-type {\n",
       "        vertical-align: middle;\n",
       "    }\n",
       "\n",
       "    .dataframe tbody tr th {\n",
       "        vertical-align: top;\n",
       "    }\n",
       "\n",
       "    .dataframe thead th {\n",
       "        text-align: right;\n",
       "    }\n",
       "</style>\n",
       "<table border=\"1\" class=\"dataframe\">\n",
       "  <thead>\n",
       "    <tr style=\"text-align: right;\">\n",
       "      <th></th>\n",
       "      <th>count</th>\n",
       "      <th>mean</th>\n",
       "      <th>std</th>\n",
       "      <th>min</th>\n",
       "      <th>25%</th>\n",
       "      <th>50%</th>\n",
       "      <th>75%</th>\n",
       "      <th>max</th>\n",
       "    </tr>\n",
       "    <tr>\n",
       "      <th>Customer type</th>\n",
       "      <th></th>\n",
       "      <th></th>\n",
       "      <th></th>\n",
       "      <th></th>\n",
       "      <th></th>\n",
       "      <th></th>\n",
       "      <th></th>\n",
       "      <th></th>\n",
       "    </tr>\n",
       "  </thead>\n",
       "  <tbody>\n",
       "    <tr>\n",
       "      <th>Member</th>\n",
       "      <td>501.0</td>\n",
       "      <td>15.609110</td>\n",
       "      <td>11.809228</td>\n",
       "      <td>0.5085</td>\n",
       "      <td>5.631</td>\n",
       "      <td>12.668</td>\n",
       "      <td>23.1225</td>\n",
       "      <td>49.65</td>\n",
       "    </tr>\n",
       "    <tr>\n",
       "      <th>Normal</th>\n",
       "      <td>499.0</td>\n",
       "      <td>15.148707</td>\n",
       "      <td>11.614419</td>\n",
       "      <td>0.6045</td>\n",
       "      <td>6.154</td>\n",
       "      <td>11.306</td>\n",
       "      <td>22.0290</td>\n",
       "      <td>49.49</td>\n",
       "    </tr>\n",
       "  </tbody>\n",
       "</table>\n",
       "</div>"
      ],
      "text/plain": [
       "               count       mean        std     min    25%     50%      75%  \\\n",
       "Customer type                                                                \n",
       "Member         501.0  15.609110  11.809228  0.5085  5.631  12.668  23.1225   \n",
       "Normal         499.0  15.148707  11.614419  0.6045  6.154  11.306  22.0290   \n",
       "\n",
       "                 max  \n",
       "Customer type         \n",
       "Member         49.65  \n",
       "Normal         49.49  "
      ]
     },
     "execution_count": 15,
     "metadata": {},
     "output_type": "execute_result"
    }
   ],
   "source": [
    "data.groupby('Customer type')['Tax 5%'].describe()"
   ]
  },
  {
   "cell_type": "markdown",
   "id": "be7c46e5",
   "metadata": {
    "papermill": {
     "duration": 0.022272,
     "end_time": "2024-06-24T18:59:45.084057",
     "exception": false,
     "start_time": "2024-06-24T18:59:45.061785",
     "status": "completed"
    },
    "tags": []
   },
   "source": [
    "As you can see there is some outliers"
   ]
  },
  {
   "cell_type": "code",
   "execution_count": 16,
   "id": "36c187d4",
   "metadata": {
    "execution": {
     "iopub.execute_input": "2024-06-24T18:59:45.118890Z",
     "iopub.status.busy": "2024-06-24T18:59:45.118337Z",
     "iopub.status.idle": "2024-06-24T18:59:45.136189Z",
     "shell.execute_reply": "2024-06-24T18:59:45.134826Z"
    },
    "papermill": {
     "duration": 0.038273,
     "end_time": "2024-06-24T18:59:45.139301",
     "exception": false,
     "start_time": "2024-06-24T18:59:45.101028",
     "status": "completed"
    },
    "tags": []
   },
   "outputs": [
    {
     "data": {
      "text/html": [
       "<div>\n",
       "<style scoped>\n",
       "    .dataframe tbody tr th:only-of-type {\n",
       "        vertical-align: middle;\n",
       "    }\n",
       "\n",
       "    .dataframe tbody tr th {\n",
       "        vertical-align: top;\n",
       "    }\n",
       "\n",
       "    .dataframe thead th {\n",
       "        text-align: right;\n",
       "    }\n",
       "</style>\n",
       "<table border=\"1\" class=\"dataframe\">\n",
       "  <thead>\n",
       "    <tr style=\"text-align: right;\">\n",
       "      <th></th>\n",
       "      <th>gross income</th>\n",
       "    </tr>\n",
       "    <tr>\n",
       "      <th>Branch</th>\n",
       "      <th></th>\n",
       "    </tr>\n",
       "  </thead>\n",
       "  <tbody>\n",
       "    <tr>\n",
       "      <th>A</th>\n",
       "      <td>5057.1605</td>\n",
       "    </tr>\n",
       "    <tr>\n",
       "      <th>B</th>\n",
       "      <td>5057.0320</td>\n",
       "    </tr>\n",
       "    <tr>\n",
       "      <th>C</th>\n",
       "      <td>5265.1765</td>\n",
       "    </tr>\n",
       "  </tbody>\n",
       "</table>\n",
       "</div>"
      ],
      "text/plain": [
       "        gross income\n",
       "Branch              \n",
       "A          5057.1605\n",
       "B          5057.0320\n",
       "C          5265.1765"
      ]
     },
     "execution_count": 16,
     "metadata": {},
     "output_type": "execute_result"
    }
   ],
   "source": [
    "data.groupby('Branch')['gross income'].sum().to_frame()"
   ]
  },
  {
   "cell_type": "code",
   "execution_count": 17,
   "id": "03d72342",
   "metadata": {
    "execution": {
     "iopub.execute_input": "2024-06-24T18:59:45.171330Z",
     "iopub.status.busy": "2024-06-24T18:59:45.170799Z",
     "iopub.status.idle": "2024-06-24T18:59:45.185250Z",
     "shell.execute_reply": "2024-06-24T18:59:45.183789Z"
    },
    "papermill": {
     "duration": 0.034084,
     "end_time": "2024-06-24T18:59:45.188297",
     "exception": false,
     "start_time": "2024-06-24T18:59:45.154213",
     "status": "completed"
    },
    "tags": []
   },
   "outputs": [
    {
     "data": {
      "text/plain": [
       "Customer type\n",
       "Member    327.791305\n",
       "Normal    318.122856\n",
       "Name: Total, dtype: float64"
      ]
     },
     "execution_count": 17,
     "metadata": {},
     "output_type": "execute_result"
    }
   ],
   "source": [
    "total = data.groupby('Customer type')['Total'].mean()\n",
    "total"
   ]
  },
  {
   "cell_type": "code",
   "execution_count": 18,
   "id": "d06e5c0b",
   "metadata": {
    "execution": {
     "iopub.execute_input": "2024-06-24T18:59:45.220960Z",
     "iopub.status.busy": "2024-06-24T18:59:45.220413Z",
     "iopub.status.idle": "2024-06-24T18:59:45.715496Z",
     "shell.execute_reply": "2024-06-24T18:59:45.713921Z"
    },
    "papermill": {
     "duration": 0.514393,
     "end_time": "2024-06-24T18:59:45.718536",
     "exception": false,
     "start_time": "2024-06-24T18:59:45.204143",
     "status": "completed"
    },
    "tags": []
   },
   "outputs": [
    {
     "data": {
      "image/png": "[encoded data removed]",
      "text/plain": [
       "<Figure size 1000x600 with 2 Axes>"
      ]
     },
     "metadata": {},
     "output_type": "display_data"
    }
   ],
   "source": [
    "fig, (ax1, ax2) = plt.subplots(1, 2, figsize=(10, 6))\n",
    "\n",
    "sns.barplot(x=total.index, y=total.values, ax=ax1)\n",
    "ax1.set_title('Customer Type vs. Total')\n",
    "bars = ax1.containers[0]\n",
    "ax1.bar_label(bars)\n",
    "\n",
    "sns.boxplot(x='Customer type', y='Tax 5%', data=data, ax=ax2)\n",
    "ax2.set_xlabel('Customer Type')\n",
    "ax2.set_ylabel('Tax 5%')\n",
    "ax2.set_title('Customer Type vs. Tax 5%')\n",
    "\n",
    "plt.show()"
   ]
  },
  {
   "cell_type": "code",
   "execution_count": 19,
   "id": "d03b2357",
   "metadata": {
    "execution": {
     "iopub.execute_input": "2024-06-24T18:59:45.750902Z",
     "iopub.status.busy": "2024-06-24T18:59:45.750378Z",
     "iopub.status.idle": "2024-06-24T18:59:45.762812Z",
     "shell.execute_reply": "2024-06-24T18:59:45.761429Z"
    },
    "papermill": {
     "duration": 0.031946,
     "end_time": "2024-06-24T18:59:45.765421",
     "exception": false,
     "start_time": "2024-06-24T18:59:45.733475",
     "status": "completed"
    },
    "tags": []
   },
   "outputs": [
    {
     "data": {
      "text/plain": [
       "Product line\n",
       "Fashion accessories       178\n",
       "Food and beverages        174\n",
       "Electronic accessories    170\n",
       "Sports and travel         166\n",
       "Home and lifestyle        160\n",
       "Health and beauty         152\n",
       "Name: count, dtype: int64"
      ]
     },
     "execution_count": 19,
     "metadata": {},
     "output_type": "execute_result"
    }
   ],
   "source": [
    "lines = data['Product line'].value_counts()\n",
    "lines"
   ]
  },
  {
   "cell_type": "code",
   "execution_count": 20,
   "id": "9bbafdeb",
   "metadata": {
    "execution": {
     "iopub.execute_input": "2024-06-24T18:59:45.800831Z",
     "iopub.status.busy": "2024-06-24T18:59:45.799698Z",
     "iopub.status.idle": "2024-06-24T18:59:45.817470Z",
     "shell.execute_reply": "2024-06-24T18:59:45.815891Z"
    },
    "papermill": {
     "duration": 0.039148,
     "end_time": "2024-06-24T18:59:45.820951",
     "exception": false,
     "start_time": "2024-06-24T18:59:45.781803",
     "status": "completed"
    },
    "tags": []
   },
   "outputs": [
    {
     "data": {
      "text/html": [
       "<div>\n",
       "<style scoped>\n",
       "    .dataframe tbody tr th:only-of-type {\n",
       "        vertical-align: middle;\n",
       "    }\n",
       "\n",
       "    .dataframe tbody tr th {\n",
       "        vertical-align: top;\n",
       "    }\n",
       "\n",
       "    .dataframe thead th {\n",
       "        text-align: right;\n",
       "    }\n",
       "</style>\n",
       "<table border=\"1\" class=\"dataframe\">\n",
       "  <thead>\n",
       "    <tr style=\"text-align: right;\">\n",
       "      <th></th>\n",
       "      <th>Total income</th>\n",
       "      <th>Avg invoice income</th>\n",
       "    </tr>\n",
       "    <tr>\n",
       "      <th>Product line</th>\n",
       "      <th></th>\n",
       "      <th></th>\n",
       "    </tr>\n",
       "  </thead>\n",
       "  <tbody>\n",
       "    <tr>\n",
       "      <th>Electronic accessories</th>\n",
       "      <td>2587.5015</td>\n",
       "      <td>319.632538</td>\n",
       "    </tr>\n",
       "    <tr>\n",
       "      <th>Fashion accessories</th>\n",
       "      <td>2585.9950</td>\n",
       "      <td>305.089298</td>\n",
       "    </tr>\n",
       "    <tr>\n",
       "      <th>Food and beverages</th>\n",
       "      <td>2673.5640</td>\n",
       "      <td>322.671517</td>\n",
       "    </tr>\n",
       "    <tr>\n",
       "      <th>Health and beauty</th>\n",
       "      <td>2342.5590</td>\n",
       "      <td>323.643020</td>\n",
       "    </tr>\n",
       "    <tr>\n",
       "      <th>Home and lifestyle</th>\n",
       "      <td>2564.8530</td>\n",
       "      <td>336.636956</td>\n",
       "    </tr>\n",
       "    <tr>\n",
       "      <th>Sports and travel</th>\n",
       "      <td>2624.8965</td>\n",
       "      <td>332.065220</td>\n",
       "    </tr>\n",
       "  </tbody>\n",
       "</table>\n",
       "</div>"
      ],
      "text/plain": [
       "                        Total income  Avg invoice income\n",
       "Product line                                            \n",
       "Electronic accessories     2587.5015          319.632538\n",
       "Fashion accessories        2585.9950          305.089298\n",
       "Food and beverages         2673.5640          322.671517\n",
       "Health and beauty          2342.5590          323.643020\n",
       "Home and lifestyle         2564.8530          336.636956\n",
       "Sports and travel          2624.8965          332.065220"
      ]
     },
     "execution_count": 20,
     "metadata": {},
     "output_type": "execute_result"
    }
   ],
   "source": [
    "grouped = data.groupby('Product line').agg({'gross income': 'sum','Total': 'mean'})\n",
    "grouped = grouped.rename(columns={'gross income':'Total income','Total':'Avg invoice income'})\n",
    "grouped"
   ]
  },
  {
   "cell_type": "code",
   "execution_count": 21,
   "id": "69cad12f",
   "metadata": {
    "execution": {
     "iopub.execute_input": "2024-06-24T18:59:45.861073Z",
     "iopub.status.busy": "2024-06-24T18:59:45.859933Z",
     "iopub.status.idle": "2024-06-24T18:59:46.350578Z",
     "shell.execute_reply": "2024-06-24T18:59:46.349003Z"
    },
    "papermill": {
     "duration": 0.512534,
     "end_time": "2024-06-24T18:59:46.353480",
     "exception": false,
     "start_time": "2024-06-24T18:59:45.840946",
     "status": "completed"
    },
    "tags": []
   },
   "outputs": [
    {
     "data": {
      "image/png": "[encoded data removed]",
      "text/plain": [
       "<Figure size 1000x600 with 1 Axes>"
      ]
     },
     "metadata": {},
     "output_type": "display_data"
    }
   ],
   "source": [
    "fig, ax = plt.subplots(figsize=(10, 6))\n",
    "\n",
    "bars = ax.bar(grouped.index, grouped['Total income'], color='skyblue', label='Total Income')\n",
    "ax.set_xlabel('Product Line')\n",
    "ax.set_ylabel('Total Income')\n",
    "ax.set_title('Total Income by Product Line')\n",
    "plt.xticks(rotation=45, ha='right')\n",
    "\n",
    "\n",
    "for bar in bars:\n",
    "    height = bar.get_height()\n",
    "    ax.annotate(f'{height:.2f}',\n",
    "                xy=(bar.get_x() + bar.get_width() / 2, height),\n",
    "                xytext=(0, 3),  \n",
    "                textcoords='offset points',\n",
    "                ha='center', va='bottom')\n",
    "\n",
    "plt.tight_layout()\n",
    "plt.show()"
   ]
  },
  {
   "cell_type": "code",
   "execution_count": 22,
   "id": "3eb04b73",
   "metadata": {
    "execution": {
     "iopub.execute_input": "2024-06-24T18:59:46.392138Z",
     "iopub.status.busy": "2024-06-24T18:59:46.391064Z",
     "iopub.status.idle": "2024-06-24T18:59:46.420336Z",
     "shell.execute_reply": "2024-06-24T18:59:46.418174Z"
    },
    "papermill": {
     "duration": 0.053142,
     "end_time": "2024-06-24T18:59:46.423829",
     "exception": false,
     "start_time": "2024-06-24T18:59:46.370687",
     "status": "completed"
    },
    "tags": []
   },
   "outputs": [
    {
     "data": {
      "text/html": [
       "<div>\n",
       "<style scoped>\n",
       "    .dataframe tbody tr th:only-of-type {\n",
       "        vertical-align: middle;\n",
       "    }\n",
       "\n",
       "    .dataframe tbody tr th {\n",
       "        vertical-align: top;\n",
       "    }\n",
       "\n",
       "    .dataframe thead th {\n",
       "        text-align: right;\n",
       "    }\n",
       "</style>\n",
       "<table border=\"1\" class=\"dataframe\">\n",
       "  <thead>\n",
       "    <tr style=\"text-align: right;\">\n",
       "      <th></th>\n",
       "      <th>Invoice ID</th>\n",
       "      <th>Branch</th>\n",
       "      <th>City</th>\n",
       "      <th>Customer type</th>\n",
       "      <th>Gender</th>\n",
       "      <th>Product line</th>\n",
       "      <th>Unit price</th>\n",
       "      <th>Quantity</th>\n",
       "      <th>Tax 5%</th>\n",
       "      <th>Total</th>\n",
       "      <th>Date</th>\n",
       "      <th>Time</th>\n",
       "      <th>Payment</th>\n",
       "      <th>cogs</th>\n",
       "      <th>gross margin percentage</th>\n",
       "      <th>gross income</th>\n",
       "      <th>Rating</th>\n",
       "    </tr>\n",
       "  </thead>\n",
       "  <tbody>\n",
       "    <tr>\n",
       "      <th>0</th>\n",
       "      <td>750-67-8428</td>\n",
       "      <td>A</td>\n",
       "      <td>Yangon</td>\n",
       "      <td>Member</td>\n",
       "      <td>Female</td>\n",
       "      <td>Health and beauty</td>\n",
       "      <td>74.69</td>\n",
       "      <td>7</td>\n",
       "      <td>26.1415</td>\n",
       "      <td>548.9715</td>\n",
       "      <td>2019-01-05</td>\n",
       "      <td>13:08</td>\n",
       "      <td>Ewallet</td>\n",
       "      <td>522.83</td>\n",
       "      <td>4.761905</td>\n",
       "      <td>26.1415</td>\n",
       "      <td>9.1</td>\n",
       "    </tr>\n",
       "    <tr>\n",
       "      <th>1</th>\n",
       "      <td>226-31-3081</td>\n",
       "      <td>C</td>\n",
       "      <td>Naypyitaw</td>\n",
       "      <td>Normal</td>\n",
       "      <td>Female</td>\n",
       "      <td>Electronic accessories</td>\n",
       "      <td>15.28</td>\n",
       "      <td>5</td>\n",
       "      <td>3.8200</td>\n",
       "      <td>80.2200</td>\n",
       "      <td>2019-03-08</td>\n",
       "      <td>10:29</td>\n",
       "      <td>Cash</td>\n",
       "      <td>76.40</td>\n",
       "      <td>4.761905</td>\n",
       "      <td>3.8200</td>\n",
       "      <td>9.6</td>\n",
       "    </tr>\n",
       "    <tr>\n",
       "      <th>2</th>\n",
       "      <td>631-41-3108</td>\n",
       "      <td>A</td>\n",
       "      <td>Yangon</td>\n",
       "      <td>Normal</td>\n",
       "      <td>Male</td>\n",
       "      <td>Home and lifestyle</td>\n",
       "      <td>46.33</td>\n",
       "      <td>7</td>\n",
       "      <td>16.2155</td>\n",
       "      <td>340.5255</td>\n",
       "      <td>2019-03-03</td>\n",
       "      <td>13:23</td>\n",
       "      <td>Credit card</td>\n",
       "      <td>324.31</td>\n",
       "      <td>4.761905</td>\n",
       "      <td>16.2155</td>\n",
       "      <td>7.4</td>\n",
       "    </tr>\n",
       "    <tr>\n",
       "      <th>3</th>\n",
       "      <td>123-19-1176</td>\n",
       "      <td>A</td>\n",
       "      <td>Yangon</td>\n",
       "      <td>Member</td>\n",
       "      <td>Male</td>\n",
       "      <td>Health and beauty</td>\n",
       "      <td>58.22</td>\n",
       "      <td>8</td>\n",
       "      <td>23.2880</td>\n",
       "      <td>489.0480</td>\n",
       "      <td>2019-01-27</td>\n",
       "      <td>20:33</td>\n",
       "      <td>Ewallet</td>\n",
       "      <td>465.76</td>\n",
       "      <td>4.761905</td>\n",
       "      <td>23.2880</td>\n",
       "      <td>8.4</td>\n",
       "    </tr>\n",
       "    <tr>\n",
       "      <th>4</th>\n",
       "      <td>373-73-7910</td>\n",
       "      <td>A</td>\n",
       "      <td>Yangon</td>\n",
       "      <td>Normal</td>\n",
       "      <td>Male</td>\n",
       "      <td>Sports and travel</td>\n",
       "      <td>86.31</td>\n",
       "      <td>7</td>\n",
       "      <td>30.2085</td>\n",
       "      <td>634.3785</td>\n",
       "      <td>2019-02-08</td>\n",
       "      <td>10:37</td>\n",
       "      <td>Ewallet</td>\n",
       "      <td>604.17</td>\n",
       "      <td>4.761905</td>\n",
       "      <td>30.2085</td>\n",
       "      <td>5.3</td>\n",
       "    </tr>\n",
       "  </tbody>\n",
       "</table>\n",
       "</div>"
      ],
      "text/plain": [
       "    Invoice ID Branch       City Customer type  Gender  \\\n",
       "0  750-67-8428      A     Yangon        Member  Female   \n",
       "1  226-31-3081      C  Naypyitaw        Normal  Female   \n",
       "2  631-41-3108      A     Yangon        Normal    Male   \n",
       "3  123-19-1176      A     Yangon        Member    Male   \n",
       "4  373-73-7910      A     Yangon        Normal    Male   \n",
       "\n",
       "             Product line  Unit price  Quantity   Tax 5%     Total       Date  \\\n",
       "0       Health and beauty       74.69         7  26.1415  548.9715 2019-01-05   \n",
       "1  Electronic accessories       15.28         5   3.8200   80.2200 2019-03-08   \n",
       "2      Home and lifestyle       46.33         7  16.2155  340.5255 2019-03-03   \n",
       "3       Health and beauty       58.22         8  23.2880  489.0480 2019-01-27   \n",
       "4       Sports and travel       86.31         7  30.2085  634.3785 2019-02-08   \n",
       "\n",
       "    Time      Payment    cogs  gross margin percentage  gross income  Rating  \n",
       "0  13:08      Ewallet  522.83                 4.761905       26.1415     9.1  \n",
       "1  10:29         Cash   76.40                 4.761905        3.8200     9.6  \n",
       "2  13:23  Credit card  324.31                 4.761905       16.2155     7.4  \n",
       "3  20:33      Ewallet  465.76                 4.761905       23.2880     8.4  \n",
       "4  10:37      Ewallet  604.17                 4.761905       30.2085     5.3  "
      ]
     },
     "execution_count": 22,
     "metadata": {},
     "output_type": "execute_result"
    }
   ],
   "source": [
    "data.head()"
   ]
  },
  {
   "cell_type": "markdown",
   "id": "b4219ecf",
   "metadata": {
    "papermill": {
     "duration": 0.018729,
     "end_time": "2024-06-24T18:59:46.461331",
     "exception": false,
     "start_time": "2024-06-24T18:59:46.442602",
     "status": "completed"
    },
    "tags": []
   },
   "source": [
    "#### 3.4 Time Series data analysis"
   ]
  },
  {
   "cell_type": "code",
   "execution_count": 23,
   "id": "c7fd3dd0",
   "metadata": {
    "execution": {
     "iopub.execute_input": "2024-06-24T18:59:46.502733Z",
     "iopub.status.busy": "2024-06-24T18:59:46.502281Z",
     "iopub.status.idle": "2024-06-24T18:59:46.512957Z",
     "shell.execute_reply": "2024-06-24T18:59:46.511728Z"
    },
    "papermill": {
     "duration": 0.032862,
     "end_time": "2024-06-24T18:59:46.515703",
     "exception": false,
     "start_time": "2024-06-24T18:59:46.482841",
     "status": "completed"
    },
    "tags": []
   },
   "outputs": [],
   "source": [
    "data['Month']=data['Date'].dt.month  \n",
    "data['Day']=data['Date'].dt.day_name()"
   ]
  },
  {
   "cell_type": "code",
   "execution_count": 24,
   "id": "be50d96a",
   "metadata": {
    "execution": {
     "iopub.execute_input": "2024-06-24T18:59:46.551886Z",
     "iopub.status.busy": "2024-06-24T18:59:46.551410Z",
     "iopub.status.idle": "2024-06-24T18:59:46.568162Z",
     "shell.execute_reply": "2024-06-24T18:59:46.566844Z"
    },
    "papermill": {
     "duration": 0.038211,
     "end_time": "2024-06-24T18:59:46.571176",
     "exception": false,
     "start_time": "2024-06-24T18:59:46.532965",
     "status": "completed"
    },
    "tags": []
   },
   "outputs": [
    {
     "data": {
      "text/html": [
       "<div>\n",
       "<style scoped>\n",
       "    .dataframe tbody tr th:only-of-type {\n",
       "        vertical-align: middle;\n",
       "    }\n",
       "\n",
       "    .dataframe tbody tr th {\n",
       "        vertical-align: top;\n",
       "    }\n",
       "\n",
       "    .dataframe thead th {\n",
       "        text-align: right;\n",
       "    }\n",
       "</style>\n",
       "<table border=\"1\" class=\"dataframe\">\n",
       "  <thead>\n",
       "    <tr style=\"text-align: right;\">\n",
       "      <th></th>\n",
       "      <th>Total</th>\n",
       "    </tr>\n",
       "    <tr>\n",
       "      <th>Day</th>\n",
       "      <th></th>\n",
       "    </tr>\n",
       "  </thead>\n",
       "  <tbody>\n",
       "    <tr>\n",
       "      <th>Monday</th>\n",
       "      <td>37899.0780</td>\n",
       "    </tr>\n",
       "    <tr>\n",
       "      <th>Tuesday</th>\n",
       "      <td>51482.2455</td>\n",
       "    </tr>\n",
       "    <tr>\n",
       "      <th>Wednesday</th>\n",
       "      <td>43731.1350</td>\n",
       "    </tr>\n",
       "    <tr>\n",
       "      <th>Thursday</th>\n",
       "      <td>45349.2480</td>\n",
       "    </tr>\n",
       "    <tr>\n",
       "      <th>Friday</th>\n",
       "      <td>43926.3405</td>\n",
       "    </tr>\n",
       "    <tr>\n",
       "      <th>Saturday</th>\n",
       "      <td>56120.8095</td>\n",
       "    </tr>\n",
       "    <tr>\n",
       "      <th>Sunday</th>\n",
       "      <td>44457.8925</td>\n",
       "    </tr>\n",
       "  </tbody>\n",
       "</table>\n",
       "</div>"
      ],
      "text/plain": [
       "                Total\n",
       "Day                  \n",
       "Monday     37899.0780\n",
       "Tuesday    51482.2455\n",
       "Wednesday  43731.1350\n",
       "Thursday   45349.2480\n",
       "Friday     43926.3405\n",
       "Saturday   56120.8095\n",
       "Sunday     44457.8925"
      ]
     },
     "execution_count": 24,
     "metadata": {},
     "output_type": "execute_result"
    }
   ],
   "source": [
    "day_df = data.groupby('Day')['Total'].sum().to_frame()\n",
    "day_df = day_df.reindex(['Monday', 'Tuesday', 'Wednesday', 'Thursday', 'Friday', 'Saturday', 'Sunday']) \n",
    "day_df.head(10)"
   ]
  },
  {
   "cell_type": "code",
   "execution_count": 25,
   "id": "cfaf5f5e",
   "metadata": {
    "execution": {
     "iopub.execute_input": "2024-06-24T18:59:46.610054Z",
     "iopub.status.busy": "2024-06-24T18:59:46.609035Z",
     "iopub.status.idle": "2024-06-24T18:59:46.961024Z",
     "shell.execute_reply": "2024-06-24T18:59:46.959503Z"
    },
    "papermill": {
     "duration": 0.374246,
     "end_time": "2024-06-24T18:59:46.963981",
     "exception": false,
     "start_time": "2024-06-24T18:59:46.589735",
     "status": "completed"
    },
    "tags": []
   },
   "outputs": [
    {
     "data": {
      "image/png": "[encoded data removed]",
      "text/plain": [
       "<Figure size 1000x600 with 1 Axes>"
      ]
     },
     "metadata": {},
     "output_type": "display_data"
    }
   ],
   "source": [
    "ig, ax1 = plt.subplots(figsize=(10, 6))\n",
    "\n",
    "daywise_day = ['Monday', 'Tuesday', 'Wednesday', 'Thursday', 'Friday', 'Saturday', 'Sunday']\n",
    "ax1 = sns.barplot(x=daywise_day, y=day_df['Total'], data = day_df, palette='plasma')\n",
    "ax1.set_title('Weekly Sales of Supermarket', size=16)\n",
    "\n",
    "ax1.set_ylabel('Total Sales', fontsize=14)\n",
    "ax1.set_xticklabels(daywise_day, fontsize=14)\n",
    "plt.show()"
   ]
  }
 ],
 "metadata": {
  "kaggle": {
   "accelerator": "none",
   "dataSources": [
    {
     "datasetId": 205965,
     "sourceId": 451952,
     "sourceType": "datasetVersion"
    }
   ],
   "dockerImageVersionId": 30732,
   "isGpuEnabled": false,
   "isInternetEnabled": true,
   "language": "python",
   "sourceType": "notebook"
  },
  "kernelspec": {
   "display_name": "Python 3",
   "language": "python",
   "name": "python3"
  },
  "language_info": {
   "codemirror_mode": {
    "name": "ipython",
    "version": 3
   },
   "file_extension": ".py",
   "mimetype": "text/x-python",
   "name": "python",
   "nbconvert_exporter": "python",
   "pygments_lexer": "ipython3",
   "version": "3.10.13"
  },
  "papermill": {
   "default_parameters": {},
   "duration": 10.883898,
   "end_time": "2024-06-24T18:59:47.704228",
   "environment_variables": {},
   "exception": null,
   "input_path": "__notebook__.ipynb",
   "output_path": "__notebook__.ipynb",
   "parameters": {},
   "start_time": "2024-06-24T18:59:36.820330",
   "version": "2.5.0"
  }
 },
 "nbformat": 4,
 "nbformat_minor": 5
}
